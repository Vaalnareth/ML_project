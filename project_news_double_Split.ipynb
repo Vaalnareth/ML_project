{
 "cells": [
  {
   "cell_type": "markdown",
   "metadata": {},
   "source": [
    "### Daten einlesen und Vollständigkeitsprüfung\n"
   ]
  },
  {
   "cell_type": "code",
   "execution_count": 22,
   "metadata": {},
   "outputs": [
    {
     "name": "stdout",
     "output_type": "stream",
     "text": [
      "Unnamed: 0    0\n",
      "title         0\n",
      "text          0\n",
      "label         0\n",
      "dtype: int64\n"
     ]
    },
    {
     "data": {
      "text/plain": [
       "(   Unnamed: 0                                              title  \\\n",
       " 0        8476                       You Can Smell Hillary’s Fear   \n",
       " 1       10294  Watch The Exact Moment Paul Ryan Committed Pol...   \n",
       " 2        3608        Kerry to go to Paris in gesture of sympathy   \n",
       " 3       10142  Bernie supporters on Twitter erupt in anger ag...   \n",
       " 4         875   The Battle of New York: Why This Primary Matters   \n",
       " \n",
       "                                                 text label  \n",
       " 0  Daniel Greenfield, a Shillman Journalism Fello...  FAKE  \n",
       " 1  Google Pinterest Digg Linkedin Reddit Stumbleu...  FAKE  \n",
       " 2  U.S. Secretary of State John F. Kerry said Mon...  REAL  \n",
       " 3  — Kaydee King (@KaydeeKing) November 9, 2016 T...  FAKE  \n",
       " 4  It's primary day in New York and front-runners...  REAL  ,\n",
       " None,\n",
       " (6335, 4))"
      ]
     },
     "execution_count": 22,
     "metadata": {},
     "output_type": "execute_result"
    }
   ],
   "source": [
    "import pandas as pd\n",
    "\n",
    "news = pd.read_csv('C:/Users/Admin/Desktop/DataSmart/Modul3/AI+ML/Project/Fakenews/news.csv')\n",
    "\n",
    "# Überprüfen auf fehlende Daten\n",
    "missing_data = news.isnull().sum()\n",
    "\n",
    "# Anzeigen der ersten Zeilen des Datensatzes, fehlenden Daten und Shape\n",
    "news.head(), print(missing_data), news.shape"
   ]
  },
  {
   "cell_type": "markdown",
   "metadata": {},
   "source": [
    "### Explorative Analyse"
   ]
  },
  {
   "cell_type": "code",
   "execution_count": 23,
   "metadata": {},
   "outputs": [
    {
     "name": "stdout",
     "output_type": "stream",
     "text": [
      "  Label  Anzahl News  Durchschnitt Wörter  Durchschnitt Titellänge\n",
      "0  FAKE         3164               679.13                    69.18\n",
      "1  REAL         3171               873.26                    61.38\n"
     ]
    }
   ],
   "source": [
    "import matplotlib.pyplot as plt\n",
    "\n",
    "# Anzahl FAKE und REAL News\n",
    "fake_count = news[news['label'] == 'FAKE'].shape[0]\n",
    "real_count = news[news['label'] == 'REAL'].shape[0]\n",
    "    # .shape[0] dient dem Zählen der Zeilen im Dataframe mit dem vorherigen Kriterium\n",
    "\n",
    "# Durchschnittliche Anzahl von Wörtern je Label auf 2 Nachkommastellen gerundet\n",
    "average_word_count_fake = round(news[news['label'] == 'FAKE']['text'].apply(lambda x: len(x.split())).mean(), 2)\n",
    "average_word_count_real = round(news[news['label'] == 'REAL']['text'].apply(lambda x: len(x.split())).mean(), 2)\n",
    "    # erste [] wählt Zeilen im df \"news\" aus, die das == Kriterium erfüllen\n",
    "    # zweite [] wählt Spalte \"text\" aus\n",
    "    # apply(lambda x: len(x.split())) zerlegt die Zeile in Wörter um diese zählen\n",
    "    # mean ist der Durchschnitt und round zusammen mit der 2 gibt die Anzahl der Nachkommastellen\n",
    "\n",
    "# Durchschnittliche Titellänge je Label auf 2 Nachkommastellen gerundet\n",
    "average_title_length_fake = round(news[news['label'] == 'FAKE']['title'].apply(lambda x: len(x)).mean(), 2)\n",
    "average_title_length_real = round(news[news['label'] == 'REAL']['title'].apply(lambda x: len(x)).mean(), 2)\n",
    "    # ähnlich wie beim Wörterzählen, jedoch gibt es bei len keinen Split, sodass die Zeichen statt Wörter gezählt werden\n",
    "\n",
    "# Erstellung einer DataFrame\n",
    "exploration = {\n",
    "    'Label': ['FAKE', 'REAL'],\n",
    "    'Anzahl News': [fake_count, real_count],\n",
    "    'Durchschnitt Wörter': [average_word_count_fake, average_word_count_real],\n",
    "    'Durchschnitt Titellänge': [average_title_length_fake, average_title_length_real]\n",
    "}\n",
    "df = pd.DataFrame(exploration)\n",
    "\n",
    "# Ausgabe der DataFrame\n",
    "print(df)\n"
   ]
  },
  {
   "cell_type": "markdown",
   "metadata": {},
   "source": [
    "#### Visualisierung"
   ]
  },
  {
   "cell_type": "code",
   "execution_count": 46,
   "metadata": {},
   "outputs": [
    {
     "data": {
      "image/png": "[encoded data removed]",
      "text/plain": [
       "<Figure size 700x300 with 2 Axes>"
      ]
     },
     "metadata": {},
     "output_type": "display_data"
    }
   ],
   "source": [
    "import matplotlib.pyplot as plt\n",
    "\n",
    "# Erstellung einer Figure und Subplots\n",
    "fig, axes = plt.subplots(nrows=1, ncols=2, figsize=(7, 3))\n",
    "\n",
    "# Barplot für Anzahl der Nachrichten\n",
    "df.plot(kind='bar', x='Label', y='Anzahl News', ax=axes[0], color=['red', 'green'])\n",
    "axes[0].set_title('Anzahl der Nachrichten')\n",
    "axes[0].set_ylabel('')\n",
    "axes[0].set_xlabel('')\n",
    "axes[0].get_legend().remove()\n",
    "\n",
    "# Barplot für durchschnittliche Wortanzahl\n",
    "df.plot(kind='bar', x='Label', y='Durchschnitt Wörter', ax=axes[1], color=['red', 'green'])\n",
    "axes[1].set_title('Durchschnittliche Wortanzahl')\n",
    "axes[1].set_ylabel('')\n",
    "axes[1].set_xlabel('')\n",
    "axes[1].get_legend().remove()\n",
    "\n",
    "# Namen auf der X-Achse horizontal anzeigen\n",
    "axes[0].set_xticklabels(df['Label'], rotation=0)\n",
    "axes[1].set_xticklabels(df['Label'], rotation=0)\n",
    "\n",
    "# Layout anpassen\n",
    "plt.tight_layout()\n",
    "\n",
    "# Diagramm anzeigen\n",
    "plt.show()\n"
   ]
  },
  {
   "cell_type": "markdown",
   "metadata": {},
   "source": [
    "#### Define Data - TF-IDF (Term Frequency-Inverse Document Frequency)"
   ]
  },
  {
   "cell_type": "code",
   "execution_count": 25,
   "metadata": {},
   "outputs": [],
   "source": [
    "from sklearn.feature_extraction.text import TfidfVectorizer\n",
    "\n",
    "# Merkmale extrahieren\n",
    "tfidf_vectorizer = TfidfVectorizer(max_features=2000)\n",
    "    # Wandelt Text in Zahlen um,\n",
    "    # Wichtigkeit eines Wortes relativ zu seiner Häufigkeit im Dokument\n",
    "    # hierbei werden nur die 2000 häufigsten Wörter als Merkmale definiert\n",
    "X = tfidf_vectorizer.fit_transform(news['text']) # setzt die neuen Text-Zahlen als X\n",
    "y = news['label'] # setzt die FAKE/REAL Klassifikation als Y"
   ]
  },
  {
   "cell_type": "markdown",
   "metadata": {},
   "source": [
    "#### Train/Test Split "
   ]
  },
  {
   "cell_type": "markdown",
   "metadata": {},
   "source": [
    "<sub> Beim Durchlauf des Code fiel auf, dass ein 90:10 Split je nach Modell merklich höhere Accuracy hervor ruft als der Standard 80:20 Split  \n",
    "Daher werden beide Data-Splits verwendet und in jedem Modell durchlaufen"
   ]
  },
  {
   "cell_type": "code",
   "execution_count": 26,
   "metadata": {},
   "outputs": [],
   "source": [
    "from sklearn.model_selection import train_test_split\n",
    "\n",
    "# Testgrößen definieren\n",
    "test_sizes = [0.2, 0.1]"
   ]
  },
  {
   "cell_type": "markdown",
   "metadata": {},
   "source": [
    "### Naive Bayes (NB)"
   ]
  },
  {
   "cell_type": "code",
   "execution_count": 27,
   "metadata": {},
   "outputs": [
    {
     "name": "stdout",
     "output_type": "stream",
     "text": [
      "Testgröße: 0.2\n",
      "Genauigkeit des Naive Bayes-Modells: 0.8839779005524862\n",
      "Confusion Matrix:\n",
      "[[573  55]\n",
      " [ 92 547]]\n",
      "Classification Report:\n",
      "              precision    recall  f1-score   support\n",
      "\n",
      "        FAKE       0.86      0.91      0.89       628\n",
      "        REAL       0.91      0.86      0.88       639\n",
      "\n",
      "    accuracy                           0.88      1267\n",
      "   macro avg       0.89      0.88      0.88      1267\n",
      "weighted avg       0.89      0.88      0.88      1267\n",
      "\n",
      "--------------------------------------------------\n",
      "Testgröße: 0.1\n",
      "Genauigkeit des Naive Bayes-Modells: 0.8769716088328076\n",
      "Confusion Matrix:\n",
      "[[280  36]\n",
      " [ 42 276]]\n",
      "Classification Report:\n",
      "              precision    recall  f1-score   support\n",
      "\n",
      "        FAKE       0.87      0.89      0.88       316\n",
      "        REAL       0.88      0.87      0.88       318\n",
      "\n",
      "    accuracy                           0.88       634\n",
      "   macro avg       0.88      0.88      0.88       634\n",
      "weighted avg       0.88      0.88      0.88       634\n",
      "\n",
      "--------------------------------------------------\n"
     ]
    }
   ],
   "source": [
    "from sklearn.naive_bayes import MultinomialNB\n",
    "from sklearn.metrics import accuracy_score\n",
    "from sklearn.metrics import precision_score, recall_score, f1_score\n",
    "from sklearn.metrics import classification_report\n",
    "from sklearn.metrics import confusion_matrix\n",
    "\n",
    "for test_size in test_sizes:\n",
    "    # Trainings- und Testdaten aufteilen; dies innerhalb der test_sizes Schleife, damit dies je definierter Splitgröße erfolgt\n",
    "    X_train, X_test, y_train, y_test = train_test_split(X, y, test_size=test_size, random_state=42)\n",
    "\n",
    "    # Naive Bayes-Modell trainieren\n",
    "    naive_bayes = MultinomialNB()\n",
    "    naive_bayes.fit(X_train, y_train)\n",
    "\n",
    "    # Modell evaluieren\n",
    "    y_pred_nb = naive_bayes.predict(X_test)\n",
    "    accuracy_nb = accuracy_score(y_test, y_pred_nb)\n",
    "    precision_nb = precision_score(y_test, y_pred_nb, pos_label='REAL')\n",
    "    recall_nb = recall_score(y_test, y_pred_nb, pos_label='REAL')\n",
    "    f1_nb = f1_score(y_test, y_pred_nb, pos_label='REAL')\n",
    "    report_nb = classification_report(y_test, y_pred_nb)\n",
    "    conf_matrix_nb = confusion_matrix(y_test, y_pred_nb)\n",
    "\n",
    "    # Ausgabe\n",
    "    print(f\"Testgröße: {test_size}\")\n",
    "        # das f dient dazu den String formatieren zu können um so die jeweilige test_size (also 0.2 oder 0.1) zu ziehen\n",
    "    print(\"Genauigkeit des Naive Bayes-Modells:\", accuracy_nb)\n",
    "    print(\"Confusion Matrix:\")\n",
    "    print(conf_matrix_nb)\n",
    "    print(\"Classification Report:\")\n",
    "    print(report_nb)\n",
    "    print(\"--------------------------------------------------\")\n",
    "        # dies dient als Trennlinie zur Übersichtlichkeit\n"
   ]
  },
  {
   "cell_type": "markdown",
   "metadata": {},
   "source": [
    "### Random Forest (RF)"
   ]
  },
  {
   "cell_type": "code",
   "execution_count": 28,
   "metadata": {},
   "outputs": [
    {
     "name": "stdout",
     "output_type": "stream",
     "text": [
      "Testgröße: 0.2\n",
      "Genauigkeit des Random Forest-Modells: 0.9116022099447514\n",
      "Confusion Matrix:\n",
      "[[579  49]\n",
      " [ 63 576]]\n",
      "Classification Report:\n",
      "              precision    recall  f1-score   support\n",
      "\n",
      "        FAKE       0.90      0.92      0.91       628\n",
      "        REAL       0.92      0.90      0.91       639\n",
      "\n",
      "    accuracy                           0.91      1267\n",
      "   macro avg       0.91      0.91      0.91      1267\n",
      "weighted avg       0.91      0.91      0.91      1267\n",
      "\n",
      "--------------------------------------------------\n",
      "Testgröße: 0.1\n",
      "Genauigkeit des Random Forest-Modells: 0.919558359621451\n",
      "Confusion Matrix:\n",
      "[[292  24]\n",
      " [ 27 291]]\n",
      "Classification Report:\n",
      "              precision    recall  f1-score   support\n",
      "\n",
      "        FAKE       0.92      0.92      0.92       316\n",
      "        REAL       0.92      0.92      0.92       318\n",
      "\n",
      "    accuracy                           0.92       634\n",
      "   macro avg       0.92      0.92      0.92       634\n",
      "weighted avg       0.92      0.92      0.92       634\n",
      "\n",
      "--------------------------------------------------\n"
     ]
    }
   ],
   "source": [
    "from sklearn.ensemble import RandomForestClassifier\n",
    "\n",
    "for test_size in test_sizes:\n",
    "    X_train, X_test, y_train, y_test = train_test_split(X, y, test_size=test_size, random_state=42)\n",
    "\n",
    "    # Random Forest-Modell trainieren\n",
    "    random_forest = RandomForestClassifier()\n",
    "    random_forest.fit(X_train, y_train)\n",
    "\n",
    "    # Modell evaluieren\n",
    "    y_pred_rf = random_forest.predict(X_test)\n",
    "    accuracy_rf = accuracy_score(y_test, y_pred_rf)\n",
    "    precision_rf = precision_score(y_test, y_pred_rf, pos_label='REAL')\n",
    "    recall_rf = recall_score(y_test, y_pred_rf, pos_label='REAL')\n",
    "    f1_rf = f1_score(y_test, y_pred_rf, pos_label='REAL')\n",
    "    report_rf = classification_report(y_test, y_pred_rf)\n",
    "    conf_matrix_rf = confusion_matrix(y_test, y_pred_rf)\n",
    "\n",
    "    # Ausgabe\n",
    "    print(f\"Testgröße: {test_size}\")\n",
    "    print(\"Genauigkeit des Random Forest-Modells:\", accuracy_rf)\n",
    "    print(\"Confusion Matrix:\")\n",
    "    print(conf_matrix_rf)\n",
    "    print(\"Classification Report:\")\n",
    "    print(report_rf)\n",
    "    print(\"--------------------------------------------------\")\n"
   ]
  },
  {
   "cell_type": "markdown",
   "metadata": {},
   "source": [
    "### Support Vector Machine (SVM)"
   ]
  },
  {
   "cell_type": "code",
   "execution_count": 29,
   "metadata": {},
   "outputs": [
    {
     "name": "stdout",
     "output_type": "stream",
     "text": [
      "Testgröße: 0.2\n",
      "Genauigkeit des Support Vector Machine-Modells: 0.9289660615627466\n",
      "Confusion Matrix:\n",
      "[[587  41]\n",
      " [ 49 590]]\n",
      "Classification Report:\n",
      "              precision    recall  f1-score   support\n",
      "\n",
      "        FAKE       0.92      0.93      0.93       628\n",
      "        REAL       0.94      0.92      0.93       639\n",
      "\n",
      "    accuracy                           0.93      1267\n",
      "   macro avg       0.93      0.93      0.93      1267\n",
      "weighted avg       0.93      0.93      0.93      1267\n",
      "\n",
      "--------------------------------------------------\n",
      "Testgröße: 0.1\n",
      "Genauigkeit des Support Vector Machine-Modells: 0.9211356466876972\n",
      "Confusion Matrix:\n",
      "[[293  23]\n",
      " [ 27 291]]\n",
      "Classification Report:\n",
      "              precision    recall  f1-score   support\n",
      "\n",
      "        FAKE       0.92      0.93      0.92       316\n",
      "        REAL       0.93      0.92      0.92       318\n",
      "\n",
      "    accuracy                           0.92       634\n",
      "   macro avg       0.92      0.92      0.92       634\n",
      "weighted avg       0.92      0.92      0.92       634\n",
      "\n",
      "--------------------------------------------------\n"
     ]
    }
   ],
   "source": [
    "from sklearn.svm import SVC\n",
    "\n",
    "for test_size in test_sizes:\n",
    "    X_train, X_test, y_train, y_test = train_test_split(X, y, test_size=test_size, random_state=42)\n",
    "\n",
    "    # Support Vector Machine-Modell trainieren\n",
    "    svm = SVC()\n",
    "    svm.fit(X_train, y_train)\n",
    "\n",
    "    # Modell evaluieren\n",
    "    y_pred_svm = svm.predict(X_test)\n",
    "    accuracy_svm = accuracy_score(y_test, y_pred_svm)\n",
    "    precision_svm = precision_score(y_test, y_pred_svm, pos_label='REAL')\n",
    "    recall_svm = recall_score(y_test, y_pred_svm, pos_label='REAL')\n",
    "    f1_svm = f1_score(y_test, y_pred_svm, pos_label='REAL')\n",
    "    report_svm = classification_report(y_test, y_pred_svm)\n",
    "    conf_matrix_svm = confusion_matrix(y_test, y_pred_svm)\n",
    "\n",
    "    # Ausgabe\n",
    "    print(f\"Testgröße: {test_size}\")\n",
    "    print(\"Genauigkeit des Support Vector Machine-Modells:\", accuracy_svm)\n",
    "    print(\"Confusion Matrix:\")\n",
    "    print(conf_matrix_svm)\n",
    "    print(\"Classification Report:\")\n",
    "    print(report_svm)\n",
    "    print(\"--------------------------------------------------\")\n"
   ]
  },
  {
   "cell_type": "markdown",
   "metadata": {},
   "source": [
    "### Logistische Regression (LR)"
   ]
  },
  {
   "cell_type": "code",
   "execution_count": 30,
   "metadata": {},
   "outputs": [
    {
     "name": "stdout",
     "output_type": "stream",
     "text": [
      "Testgröße: 0.2\n",
      "Genauigkeit der Logistischen Regression: 0.914759273875296\n",
      "Confusion Matrix:\n",
      "[[575  53]\n",
      " [ 55 584]]\n",
      "Classification Report:\n",
      "              precision    recall  f1-score   support\n",
      "\n",
      "        FAKE       0.91      0.92      0.91       628\n",
      "        REAL       0.92      0.91      0.92       639\n",
      "\n",
      "    accuracy                           0.91      1267\n",
      "   macro avg       0.91      0.91      0.91      1267\n",
      "weighted avg       0.91      0.91      0.91      1267\n",
      "\n",
      "--------------------------------------------------\n",
      "Testgröße: 0.1\n",
      "Genauigkeit der Logistischen Regression: 0.9132492113564669\n",
      "Confusion Matrix:\n",
      "[[290  26]\n",
      " [ 29 289]]\n",
      "Classification Report:\n",
      "              precision    recall  f1-score   support\n",
      "\n",
      "        FAKE       0.91      0.92      0.91       316\n",
      "        REAL       0.92      0.91      0.91       318\n",
      "\n",
      "    accuracy                           0.91       634\n",
      "   macro avg       0.91      0.91      0.91       634\n",
      "weighted avg       0.91      0.91      0.91       634\n",
      "\n",
      "--------------------------------------------------\n"
     ]
    }
   ],
   "source": [
    "from sklearn.linear_model import LogisticRegression\n",
    "\n",
    "for test_size in test_sizes:\n",
    "    X_train, X_test, y_train, y_test = train_test_split(X, y, test_size=test_size, random_state=42)\n",
    "\n",
    "    # Logistische Regression-Modell trainieren\n",
    "    logistic_regression = LogisticRegression()\n",
    "    logistic_regression.fit(X_train, y_train)\n",
    "\n",
    "    # Modell evaluieren\n",
    "    y_pred_lr = logistic_regression.predict(X_test)\n",
    "    accuracy_lr = accuracy_score(y_test, y_pred_lr)\n",
    "    precision_lr = precision_score(y_test, y_pred_lr, pos_label='REAL')\n",
    "    recall_lr = recall_score(y_test, y_pred_lr, pos_label='REAL')\n",
    "    f1_lr = f1_score(y_test, y_pred_lr, pos_label='REAL')\n",
    "    report_lr = classification_report(y_test, y_pred_lr)\n",
    "    conf_matrix_lr = confusion_matrix(y_test, y_pred_lr)\n",
    "\n",
    "    # Ausgabe\n",
    "    print(f\"Testgröße: {test_size}\")\n",
    "    print(\"Genauigkeit der Logistischen Regression:\", accuracy_lr)\n",
    "    print(\"Confusion Matrix:\")\n",
    "    print(conf_matrix_lr)\n",
    "    print(\"Classification Report:\")\n",
    "    print(report_lr)\n",
    "    print(\"--------------------------------------------------\")\n"
   ]
  },
  {
   "cell_type": "markdown",
   "metadata": {},
   "source": [
    "### Gradient Boosting Machine (GBM)"
   ]
  },
  {
   "cell_type": "code",
   "execution_count": 31,
   "metadata": {},
   "outputs": [
    {
     "name": "stdout",
     "output_type": "stream",
     "text": [
      "Testgröße: 0.2\n",
      "Genauigkeit der Gradient Boosting Machine: 0.9005524861878453\n",
      "Confusion Matrix:\n",
      "[[567  61]\n",
      " [ 65 574]]\n",
      "Classification Report:\n",
      "              precision    recall  f1-score   support\n",
      "\n",
      "        FAKE       0.90      0.90      0.90       628\n",
      "        REAL       0.90      0.90      0.90       639\n",
      "\n",
      "    accuracy                           0.90      1267\n",
      "   macro avg       0.90      0.90      0.90      1267\n",
      "weighted avg       0.90      0.90      0.90      1267\n",
      "\n",
      "--------------------------------------------------\n",
      "Testgröße: 0.1\n",
      "Genauigkeit der Gradient Boosting Machine: 0.8943217665615142\n",
      "Confusion Matrix:\n",
      "[[282  34]\n",
      " [ 33 285]]\n",
      "Classification Report:\n",
      "              precision    recall  f1-score   support\n",
      "\n",
      "        FAKE       0.90      0.89      0.89       316\n",
      "        REAL       0.89      0.90      0.89       318\n",
      "\n",
      "    accuracy                           0.89       634\n",
      "   macro avg       0.89      0.89      0.89       634\n",
      "weighted avg       0.89      0.89      0.89       634\n",
      "\n",
      "--------------------------------------------------\n"
     ]
    }
   ],
   "source": [
    "from sklearn.ensemble import GradientBoostingClassifier\n",
    "\n",
    "for test_size in test_sizes:\n",
    "    X_train, X_test, y_train, y_test = train_test_split(X, y, test_size=test_size, random_state=42)\n",
    "\n",
    "    # Gradient Boosting Machine-Modell trainieren\n",
    "    gradient_boosting = GradientBoostingClassifier()\n",
    "    gradient_boosting.fit(X_train, y_train)\n",
    "\n",
    "    # Modell evaluieren\n",
    "    y_pred_gb = gradient_boosting.predict(X_test)\n",
    "    accuracy_gb = accuracy_score(y_test, y_pred_gb)\n",
    "    precision_gb = precision_score(y_test, y_pred_gb, pos_label='REAL')\n",
    "    recall_gb = recall_score(y_test, y_pred_gb, pos_label='REAL')\n",
    "    f1_gb = f1_score(y_test, y_pred_gb, pos_label='REAL')\n",
    "    report_gb = classification_report(y_test, y_pred_gb)\n",
    "    conf_matrix_gb = confusion_matrix(y_test, y_pred_gb)\n",
    "\n",
    "    # Ausgabe\n",
    "    print(f\"Testgröße: {test_size}\")\n",
    "    print(\"Genauigkeit der Gradient Boosting Machine:\", accuracy_gb)\n",
    "    print(\"Confusion Matrix:\")\n",
    "    print(conf_matrix_gb)\n",
    "    print(\"Classification Report:\")\n",
    "    print(report_gb)\n",
    "    print(\"--------------------------------------------------\")\n"
   ]
  },
  {
   "cell_type": "markdown",
   "metadata": {},
   "source": [
    "### K-Nearest Neighbor (KNN)"
   ]
  },
  {
   "cell_type": "code",
   "execution_count": 32,
   "metadata": {},
   "outputs": [
    {
     "name": "stdout",
     "output_type": "stream",
     "text": [
      "Testgröße: 0.2\n",
      "Genauigkeit des K-Nearest Neighbor-Modells: 0.8310970797158642\n",
      "Confusion Matrix:\n",
      "[[515 113]\n",
      " [101 538]]\n",
      "Classification Report:\n",
      "              precision    recall  f1-score   support\n",
      "\n",
      "        FAKE       0.84      0.82      0.83       628\n",
      "        REAL       0.83      0.84      0.83       639\n",
      "\n",
      "    accuracy                           0.83      1267\n",
      "   macro avg       0.83      0.83      0.83      1267\n",
      "weighted avg       0.83      0.83      0.83      1267\n",
      "\n",
      "--------------------------------------------------\n",
      "Testgröße: 0.1\n",
      "Genauigkeit des K-Nearest Neighbor-Modells: 0.832807570977918\n",
      "Confusion Matrix:\n",
      "[[261  55]\n",
      " [ 51 267]]\n",
      "Classification Report:\n",
      "              precision    recall  f1-score   support\n",
      "\n",
      "        FAKE       0.84      0.83      0.83       316\n",
      "        REAL       0.83      0.84      0.83       318\n",
      "\n",
      "    accuracy                           0.83       634\n",
      "   macro avg       0.83      0.83      0.83       634\n",
      "weighted avg       0.83      0.83      0.83       634\n",
      "\n",
      "--------------------------------------------------\n"
     ]
    }
   ],
   "source": [
    "from sklearn.neighbors import KNeighborsClassifier\n",
    "\n",
    "for test_size in test_sizes:\n",
    "    X_train, X_test, y_train, y_test = train_test_split(X, y, test_size=test_size, random_state=42)\n",
    "\n",
    "    # K-Nearest Neighbor-Modell trainieren\n",
    "    knn = KNeighborsClassifier()\n",
    "    knn.fit(X_train, y_train)\n",
    "\n",
    "    # Modell evaluieren\n",
    "    y_pred_knn = knn.predict(X_test)\n",
    "    accuracy_knn = accuracy_score(y_test, y_pred_knn)\n",
    "    precision_knn = precision_score(y_test, y_pred_knn, pos_label='REAL')\n",
    "    recall_knn = recall_score(y_test, y_pred_knn, pos_label='REAL')\n",
    "    f1_knn = f1_score(y_test, y_pred_knn, pos_label='REAL')\n",
    "    report_knn = classification_report(y_test, y_pred_knn)\n",
    "    conf_matrix_knn = confusion_matrix(y_test, y_pred_knn)\n",
    "\n",
    "    # Ausgabe\n",
    "    print(f\"Testgröße: {test_size}\")\n",
    "    print(\"Genauigkeit des K-Nearest Neighbor-Modells:\", accuracy_knn)\n",
    "    print(\"Confusion Matrix:\")\n",
    "    print(conf_matrix_knn)\n",
    "    print(\"Classification Report:\")\n",
    "    print(report_knn)\n",
    "    print(\"--------------------------------------------------\")\n"
   ]
  },
  {
   "cell_type": "markdown",
   "metadata": {},
   "source": [
    "### Vergleich der Modelle anhand Report-Werte  \n",
    "<sub>diese wurden im Vorfeld bei den einzelnen Modellen bereits generiert und gespeichert  \n",
    "Es sollen 2 Tabellen erzeugt werden, d.h. je Splitgröße, welche die Scoring-Werte den Modellen gegenüber stellt  \n",
    "Hierzu ist es notwendig, dass die jeweiligen Werte für 0.1 und 0.2 je Modell noch einmal errechnet und einem entsprechenden Wert zugewiesen werden    \n",
    "  "
   ]
  },
  {
   "cell_type": "markdown",
   "metadata": {},
   "source": [
    "##### Werte erstellen"
   ]
  },
  {
   "cell_type": "code",
   "execution_count": 33,
   "metadata": {},
   "outputs": [],
   "source": [
    "# Liste der Modelle\n",
    "models = [\n",
    "    (\"Naive Bayes\", MultinomialNB()),\n",
    "    (\"Random Forest\", RandomForestClassifier()),\n",
    "    (\"SVM\", SVC()),\n",
    "    (\"Logistische Regression\", LogisticRegression()),\n",
    "    (\"GBM\", GradientBoostingClassifier()),\n",
    "    (\"KNN\", KNeighborsClassifier())\n",
    "]\n",
    "\n",
    "# Leere Listen für Testgröße 0.2\n",
    "accuracy_02 = []\n",
    "precision_02 = []\n",
    "recall_02 = []\n",
    "f1_02 = []\n",
    "conf_matrix_02 = []\n",
    "\n",
    "# Leere Listen für Testgröße 0.1\n",
    "accuracy_01 = []\n",
    "precision_01 = []\n",
    "recall_01 = []\n",
    "f1_01 = []\n",
    "conf_matrix_01 = []\n",
    "\n",
    "# Äußere Schleife für Durchführung je Modell\n",
    "for model_name, model_instance in models:\n",
    "    # Innere Schleife für Durchführung je Testgrößen\n",
    "    for test_size in test_sizes:\n",
    "        # Trainings- und Testdaten aufteilen\n",
    "        X_train, X_test, y_train, y_test = train_test_split(X, y, test_size=test_size, random_state=42)\n",
    "\n",
    "        # Modell trainieren\n",
    "        model_instance.fit(X_train, y_train)\n",
    "\n",
    "        # Modell evaluieren\n",
    "        y_pred = model_instance.predict(X_test)\n",
    "        accuracy = accuracy_score(y_test, y_pred)\n",
    "        precision = precision_score(y_test, y_pred, pos_label='REAL')\n",
    "        recall = recall_score(y_test, y_pred, pos_label='REAL')\n",
    "        f1 = f1_score(y_test, y_pred, pos_label='REAL')\n",
    "        conf_matrix = confusion_matrix(y_test, y_pred)\n",
    "\n",
    "        # Scorings für Testgröße 0.2 hinzufügen\n",
    "        if test_size == 0.2:\n",
    "            accuracy_02.append(accuracy)\n",
    "            precision_02.append(precision)\n",
    "            recall_02.append(recall)\n",
    "            f1_02.append(f1)\n",
    "            conf_matrix_02.append(conf_matrix)\n",
    "        # Scorings für Testgröße 0.1 hinzufügen\n",
    "        elif test_size == 0.1:\n",
    "            accuracy_01.append(accuracy)\n",
    "            precision_01.append(precision)\n",
    "            recall_01.append(recall)\n",
    "            f1_01.append(f1)\n",
    "            conf_matrix_01.append(conf_matrix)"
   ]
  },
  {
   "cell_type": "markdown",
   "metadata": {},
   "source": [
    "##### Tabellen erstellen"
   ]
  },
  {
   "cell_type": "code",
   "execution_count": 34,
   "metadata": {},
   "outputs": [
    {
     "name": "stdout",
     "output_type": "stream",
     "text": [
      "Tabelle für Testgröße 0.2:\n",
      "                   Modell  Accuracy  Precision    Recall  F1-Score\n",
      "0             Naive Bayes  0.883978   0.908638  0.856025  0.881547\n",
      "1           Random Forest  0.919495   0.921507  0.918623  0.920063\n",
      "2                     SVM  0.928966   0.935024  0.923318  0.929134\n",
      "3  Logistische Regression  0.914759   0.916797  0.913928  0.915361\n",
      "4                     GBM  0.900552   0.903937  0.898279  0.901099\n",
      "5                     KNN  0.831097   0.826421  0.841941  0.834109\n",
      "--------------------------------------------------\n",
      "Tabelle für Testgröße 0.1:\n",
      "                   Modell  Accuracy  Precision    Recall  F1-Score\n",
      "0             Naive Bayes  0.876972   0.884615  0.867925  0.876190\n",
      "1           Random Forest  0.927445   0.938710  0.915094  0.926752\n",
      "2                     SVM  0.921136   0.926752  0.915094  0.920886\n",
      "3  Logistische Regression  0.913249   0.917460  0.908805  0.913112\n",
      "4                     GBM  0.894322   0.893417  0.896226  0.894819\n",
      "5                     KNN  0.832808   0.829193  0.839623  0.834375\n"
     ]
    }
   ],
   "source": [
    "# Erstellung einer Tabelle für Testgröße 0.2\n",
    "data_02 = {\n",
    "    \"Modell\": [model[0] for model in models],\n",
    "    \"Accuracy\": accuracy_02,\n",
    "    \"Precision\": precision_02,\n",
    "    \"Recall\": recall_02,\n",
    "    \"F1-Score\": f1_02\n",
    "}\n",
    "df_02 = pd.DataFrame(data_02)\n",
    "\n",
    "# Erstellung einer Tabelle für Testgröße 0.1\n",
    "data_01 = {\n",
    "    \"Modell\": [model[0] for model in models],\n",
    "    \"Accuracy\": accuracy_01,\n",
    "    \"Precision\": precision_01,\n",
    "    \"Recall\": recall_01,\n",
    "    \"F1-Score\": f1_01\n",
    "}\n",
    "df_01 = pd.DataFrame(data_01)\n",
    "\n",
    "# Anzeigen der Tabellen je Testgröße\n",
    "print(\"Tabelle für Testgröße 0.2:\")\n",
    "print(df_02)\n",
    "print(\"--------------------------------------------------\")\n",
    "print(\"Tabelle für Testgröße 0.1:\")\n",
    "print(df_01)"
   ]
  },
  {
   "cell_type": "code",
   "execution_count": 35,
   "metadata": {},
   "outputs": [
    {
     "data": {
      "image/png": "[encoded data removed]",
      "text/plain": [
       "<Figure size 640x480 with 1 Axes>"
      ]
     },
     "metadata": {},
     "output_type": "display_data"
    }
   ],
   "source": [
    "# Modelle als Labels für die x-Achse\n",
    "labels = [\"Naive Bayes\", \"Random Forest\", \"SVM\", \"Logistische Regression\", \"GBM\", \"KNN\"]\n",
    "\n",
    "# Plot der Accuracy für Testgröße 0.1\n",
    "plt.plot(labels, accuracy_01, marker='o', label='Testgröße 0.1', color='blue')\n",
    "\n",
    "# Plot der Accuracy für Testgröße 0.2\n",
    "plt.plot(labels, accuracy_02, marker='o', label='Testgröße 0.2', color='orange')\n",
    "\n",
    "# Beschriftungen der Achsen und Titel\n",
    "plt.xlabel('Modelle')\n",
    "plt.ylabel('Accuracy')\n",
    "plt.title('Accuracy der Modelle für verschiedene Testgrößen')\n",
    "plt.legend()\n",
    "\n",
    "# Anzeigen der Grafik\n",
    "plt.xticks(rotation=45)  # Rotiere die x-Achsenbeschriftungen für bessere Lesbarkeit\n",
    "plt.grid(True)\n",
    "plt.tight_layout()\n",
    "plt.show()\n",
    "\n"
   ]
  },
  {
   "cell_type": "markdown",
   "metadata": {},
   "source": [
    "## Es ist also folgende Erkenntnis aus der Analyse zu ziehen:  \n",
    "Bei einer Testgröße von 0.2 ist die Support Vector Machine die beste Wahl mit einer Genauigkeit von 92.9%  \n",
    "Bei einer Testgröße von 0.1 ist die Random Forest Methode die beste Wahl mit einer Genauigkeit von 92.4%   \n",
    "\n",
    "Insgesamt ist es also ratsam den Standard-Split von 80:20 und SVM zu nutzen, da es den insgesamt höchsten Wert erzielte"
   ]
  }
 ],
 "metadata": {
  "kernelspec": {
   "display_name": "base",
   "language": "python",
   "name": "python3"
  },
  "language_info": {
   "codemirror_mode": {
    "name": "ipython",
    "version": 3
   },
   "file_extension": ".py",
   "mimetype": "text/x-python",
   "name": "python",
   "nbconvert_exporter": "python",
   "pygments_lexer": "ipython3",
   "version": "3.11.7"
  }
 },
 "nbformat": 4,
 "nbformat_minor": 2
}
